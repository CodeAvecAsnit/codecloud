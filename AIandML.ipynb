{
  "nbformat": 4,
  "nbformat_minor": 0,
  "metadata": {
    "colab": {
      "provenance": [],
      "toc_visible": true,
      "authorship_tag": "ABX9TyP7VtBen8BEudi46faBweGf",
      "include_colab_link": true
    },
    "kernelspec": {
      "name": "python3",
      "display_name": "Python 3"
    },
    "language_info": {
      "name": "python"
    }
  },
  "cells": [
    {
      "cell_type": "markdown",
      "metadata": {
        "id": "view-in-github",
        "colab_type": "text"
      },
      "source": [
        "<a href=\"https://colab.research.google.com/github/CodeAvecAsnit/codecloud/blob/main/AIandML.ipynb\" target=\"_parent\"><img src=\"https://colab.research.google.com/assets/colab-badge.svg\" alt=\"Open In Colab\"/></a>"
      ]
    },
    {
      "cell_type": "code",
      "execution_count": null,
      "metadata": {
        "id": "-YhZur4yslF-"
      },
      "outputs": [],
      "source": []
    },
    {
      "cell_type": "markdown",
      "source": [
        "#Single Dimensional Arrays"
      ],
      "metadata": {
        "id": "_ji0XW5Jxwl5"
      }
    },
    {
      "cell_type": "code",
      "source": [],
      "metadata": {
        "id": "WxcUnTnAyLxV"
      },
      "execution_count": null,
      "outputs": []
    },
    {
      "cell_type": "code",
      "source": [
        "import numpy as np\n",
        "\n",
        "#create an array where all the elements are zero\n",
        "\n",
        "np.zeros(5);\n"
      ],
      "metadata": {
        "id": "zfUx8nIesqA0"
      },
      "execution_count": null,
      "outputs": []
    },
    {
      "cell_type": "markdown",
      "source": [
        "-Array with all the elements as one"
      ],
      "metadata": {
        "id": "q-S7rvq_te4i"
      }
    },
    {
      "cell_type": "code",
      "source": [
        "np.ones(6)\n",
        "#here all the elements are gonna be one"
      ],
      "metadata": {
        "colab": {
          "base_uri": "https://localhost:8080/"
        },
        "id": "RB9pJrfstkK6",
        "outputId": "3f4c0080-00f7-4207-98e5-880e9be2b6ee"
      },
      "execution_count": null,
      "outputs": [
        {
          "output_type": "execute_result",
          "data": {
            "text/plain": [
              "array([1., 1., 1., 1., 1., 1.])"
            ]
          },
          "metadata": {},
          "execution_count": 13
        }
      ]
    },
    {
      "cell_type": "markdown",
      "source": [
        "Crete an array where elemenets are given as n\n"
      ],
      "metadata": {
        "id": "XeCkP9kHt6TX"
      }
    },
    {
      "cell_type": "code",
      "source": [
        "np.full(10 , 3)\n",
        "#here the 10 represents the size of the array and 3 represents the element to be filled in the array"
      ],
      "metadata": {
        "colab": {
          "base_uri": "https://localhost:8080/"
        },
        "id": "XQ7qu3c6uAC7",
        "outputId": "c6101fc2-32c5-4fa0-8854-17390a5c4cb4"
      },
      "execution_count": null,
      "outputs": [
        {
          "output_type": "execute_result",
          "data": {
            "text/plain": [
              "array([3, 3, 3, 3, 3, 3, 3, 3, 3, 3])"
            ]
          },
          "metadata": {},
          "execution_count": 5
        }
      ]
    },
    {
      "cell_type": "markdown",
      "source": [
        "lets create an array\n"
      ],
      "metadata": {
        "id": "ekkFrq_Sv45c"
      }
    },
    {
      "cell_type": "code",
      "source": [
        "np.array([1 , 2, 3, 4, 5]);\n",
        "#this creates a array with the elments inside the given elements"
      ],
      "metadata": {
        "id": "UCG2vNk9v8GS"
      },
      "execution_count": null,
      "outputs": []
    },
    {
      "cell_type": "markdown",
      "source": [
        "-create an array with range from n to x\n"
      ],
      "metadata": {
        "id": "bTqbQ5PRwB_X"
      }
    },
    {
      "cell_type": "code",
      "source": [
        "#Here the array starts from 3 to 14\n",
        "np.arange(3,15)\n"
      ],
      "metadata": {
        "colab": {
          "base_uri": "https://localhost:8080/"
        },
        "id": "a6dxStK4wKZX",
        "outputId": "a688682f-93a6-41cd-837f-87572a9c7d63"
      },
      "execution_count": null,
      "outputs": [
        {
          "output_type": "execute_result",
          "data": {
            "text/plain": [
              "array([ 3,  4,  5,  6,  7,  8,  9, 10, 11, 12, 13, 14])"
            ]
          },
          "metadata": {},
          "execution_count": 12
        }
      ]
    },
    {
      "cell_type": "code",
      "source": [
        "#create a array with a given linespace\n",
        "arr = np.linspace(0 , 110 , 12)\n",
        "print(arr)"
      ],
      "metadata": {
        "colab": {
          "base_uri": "https://localhost:8080/"
        },
        "id": "wv_H3YqtwsFX",
        "outputId": "fd4d88a5-91ce-4130-bb3f-23dd86d12424"
      },
      "execution_count": null,
      "outputs": [
        {
          "output_type": "stream",
          "name": "stdout",
          "text": [
            "[  0.  10.  20.  30.  40.  50.  60.  70.  80.  90. 100. 110.]\n"
          ]
        }
      ]
    },
    {
      "cell_type": "markdown",
      "source": [
        "#Multidimensional Arrays"
      ],
      "metadata": {
        "id": "iZS34ec4xgV6"
      }
    },
    {
      "cell_type": "markdown",
      "source": [
        "Create a array with all the elements as zero\n"
      ],
      "metadata": {
        "id": "M_tQvZz6yNVH"
      }
    },
    {
      "cell_type": "code",
      "source": [
        "np.zeros([3,4])"
      ],
      "metadata": {
        "colab": {
          "base_uri": "https://localhost:8080/"
        },
        "id": "y-xVsLUGyUIF",
        "outputId": "42f260c0-142c-43fa-a2f7-a38e3172679c"
      },
      "execution_count": null,
      "outputs": [
        {
          "output_type": "execute_result",
          "data": {
            "text/plain": [
              "array([[0., 0., 0., 0.],\n",
              "       [0., 0., 0., 0.],\n",
              "       [0., 0., 0., 0.]])"
            ]
          },
          "metadata": {},
          "execution_count": 19
        }
      ]
    },
    {
      "cell_type": "markdown",
      "source": [
        "Create an square matrix with all the elements as one\n"
      ],
      "metadata": {
        "id": "3XXR0FiVybj4"
      }
    },
    {
      "cell_type": "code",
      "source": [
        "np.ones([10,10])"
      ],
      "metadata": {
        "colab": {
          "base_uri": "https://localhost:8080/"
        },
        "id": "p7Li-V_Tyfat",
        "outputId": "6eaacde2-d7da-4a14-d16a-cfda5c87e249"
      },
      "execution_count": null,
      "outputs": [
        {
          "output_type": "execute_result",
          "data": {
            "text/plain": [
              "array([[1., 1., 1., 1., 1., 1., 1., 1., 1., 1.],\n",
              "       [1., 1., 1., 1., 1., 1., 1., 1., 1., 1.],\n",
              "       [1., 1., 1., 1., 1., 1., 1., 1., 1., 1.],\n",
              "       [1., 1., 1., 1., 1., 1., 1., 1., 1., 1.],\n",
              "       [1., 1., 1., 1., 1., 1., 1., 1., 1., 1.],\n",
              "       [1., 1., 1., 1., 1., 1., 1., 1., 1., 1.],\n",
              "       [1., 1., 1., 1., 1., 1., 1., 1., 1., 1.],\n",
              "       [1., 1., 1., 1., 1., 1., 1., 1., 1., 1.],\n",
              "       [1., 1., 1., 1., 1., 1., 1., 1., 1., 1.],\n",
              "       [1., 1., 1., 1., 1., 1., 1., 1., 1., 1.]])"
            ]
          },
          "metadata": {},
          "execution_count": 20
        }
      ]
    },
    {
      "cell_type": "markdown",
      "source": [
        "now lets create a sequnece matrix with all the elements in sequnce from one to 9\n"
      ],
      "metadata": {
        "id": "81WfsS6Dyj0N"
      }
    },
    {
      "cell_type": "code",
      "source": [
        "arr=np.array([[1,2,3],[4,5,6],[7,8,9]])\n",
        "\n"
      ],
      "metadata": {
        "id": "kHpxPjghyql0"
      },
      "execution_count": null,
      "outputs": []
    },
    {
      "cell_type": "markdown",
      "source": [
        "\n"
      ],
      "metadata": {
        "id": "G6h2t-dU0I1a"
      }
    },
    {
      "cell_type": "markdown",
      "source": [
        "now replace with 20 for 2\n"
      ],
      "metadata": {
        "id": "ebkNFE_l0Pau"
      }
    },
    {
      "cell_type": "code",
      "source": [
        "arr[0,1]=20;"
      ],
      "metadata": {
        "id": "FyXg0d-10U6S"
      },
      "execution_count": null,
      "outputs": []
    },
    {
      "cell_type": "markdown",
      "source": [
        "now lets change the last row with 19\n"
      ],
      "metadata": {
        "id": "LHg5_qvR0dyn"
      }
    },
    {
      "cell_type": "code",
      "source": [
        "arr[:,2]=2;\n",
        "print(arr)"
      ],
      "metadata": {
        "colab": {
          "base_uri": "https://localhost:8080/"
        },
        "id": "tSnak7310mYY",
        "outputId": "ba5c2054-21cd-4406-eb50-dc4bd6dbe29f"
      },
      "execution_count": null,
      "outputs": [
        {
          "output_type": "stream",
          "name": "stdout",
          "text": [
            "[[ 1 20  2]\n",
            " [ 4  5  2]\n",
            " [19 19  2]]\n"
          ]
        }
      ]
    },
    {
      "cell_type": "code",
      "source": [
        "np.full((3,3),10)"
      ],
      "metadata": {
        "colab": {
          "base_uri": "https://localhost:8080/"
        },
        "id": "fH4JEPvQ1h2g",
        "outputId": "e5ab075f-2cbd-4d15-f3ea-83da60278c9c"
      },
      "execution_count": null,
      "outputs": [
        {
          "output_type": "execute_result",
          "data": {
            "text/plain": [
              "array([[10, 10, 10],\n",
              "       [10, 10, 10],\n",
              "       [10, 10, 10]])"
            ]
          },
          "metadata": {},
          "execution_count": 39
        }
      ]
    },
    {
      "cell_type": "markdown",
      "source": [
        "# Randomly Generated Arrays\n",
        "\n"
      ],
      "metadata": {
        "id": "ah5mNguJ2ceH"
      }
    },
    {
      "cell_type": "markdown",
      "source": [
        "-Np is able to create an array with random numbers.\n",
        "-To ensure the reproductibility you can set a seed using np.random.seeed() . It will genrate the exacat same numbers for same execution.\n",
        "-If you remove or change the seed values , the sequece of the numbers will be changed."
      ],
      "metadata": {
        "id": "fOCAvU4q3Ga_"
      }
    },
    {
      "cell_type": "code",
      "source": [
        "print(np.random.rand(8))"
      ],
      "metadata": {
        "colab": {
          "base_uri": "https://localhost:8080/"
        },
        "id": "04EhqFNC3IYH",
        "outputId": "c21095bc-b54d-4459-9764-c72ec0b4b20e"
      },
      "execution_count": null,
      "outputs": [
        {
          "output_type": "stream",
          "name": "stdout",
          "text": [
            "[0.52267467 0.4783918  0.55535647 0.54338602 0.76089558 0.71237457\n",
            " 0.6196821  0.42609177]\n"
          ]
        }
      ]
    },
    {
      "cell_type": "markdown",
      "source": [],
      "metadata": {
        "id": "w1USySHs3PFI"
      }
    },
    {
      "cell_type": "code",
      "source": [
        "print(np.random.seed(8))\n",
        "print(np.random.rand(8))"
      ],
      "metadata": {
        "colab": {
          "base_uri": "https://localhost:8080/"
        },
        "id": "IOkBIYD73WI8",
        "outputId": "2eba2dcb-0a1a-4211-e04c-6dadf676c42a"
      },
      "execution_count": null,
      "outputs": [
        {
          "output_type": "stream",
          "name": "stdout",
          "text": [
            "None\n",
            "[0.8734294  0.96854066 0.86919454 0.53085569 0.23272833 0.0113988\n",
            " 0.43046882 0.40235136]\n"
          ]
        }
      ]
    },
    {
      "cell_type": "code",
      "source": [
        "np.random.randn(5,2)"
      ],
      "metadata": {
        "colab": {
          "base_uri": "https://localhost:8080/"
        },
        "id": "iGwor0dh4NjQ",
        "outputId": "23cc54ff-8d57-4b06-a267-18d6468705ec"
      },
      "execution_count": null,
      "outputs": [
        {
          "output_type": "execute_result",
          "data": {
            "text/plain": [
              "array([[-2.29649157,  2.4098343 ],\n",
              "       [ 1.72783617,  2.20455628],\n",
              "       [ 0.79482764,  0.9764211 ],\n",
              "       [-1.18342715,  1.91636361],\n",
              "       [-1.1233268 , -0.66403547]])"
            ]
          },
          "metadata": {},
          "execution_count": 49
        }
      ]
    },
    {
      "cell_type": "markdown",
      "source": [
        "#Element wise Operation on entire arrays element by element"
      ],
      "metadata": {
        "id": "8ijGOV9bGK47"
      }
    },
    {
      "cell_type": "code",
      "source": [
        "import numpy as np\n",
        "a=np.arange(5)\n",
        "a"
      ],
      "metadata": {
        "colab": {
          "base_uri": "https://localhost:8080/"
        },
        "id": "N9TWu4cnGTdm",
        "outputId": "47bf90b3-68b4-47f6-c783-1dfcac249071"
      },
      "execution_count": null,
      "outputs": [
        {
          "output_type": "execute_result",
          "data": {
            "text/plain": [
              "array([0, 1, 2, 3, 4])"
            ]
          },
          "metadata": {},
          "execution_count": 2
        }
      ]
    },
    {
      "cell_type": "code",
      "source": [
        "b=(10+(a*2))\n",
        "b"
      ],
      "metadata": {
        "colab": {
          "base_uri": "https://localhost:8080/"
        },
        "id": "774z1eALGjyY",
        "outputId": "62b059cb-4f9a-4879-ec6c-3cbb2c78b016"
      },
      "execution_count": null,
      "outputs": [
        {
          "output_type": "execute_result",
          "data": {
            "text/plain": [
              "array([10, 12, 14, 16, 18])"
            ]
          },
          "metadata": {},
          "execution_count": 3
        }
      ]
    },
    {
      "cell_type": "markdown",
      "source": [
        "comparision operators\n"
      ],
      "metadata": {
        "id": "VfwqP865G3D-"
      }
    },
    {
      "cell_type": "code",
      "source": [
        "a>=2"
      ],
      "metadata": {
        "colab": {
          "base_uri": "https://localhost:8080/"
        },
        "id": "hdUAlHWPG7lY",
        "outputId": "366d98da-6e12-4849-8fc0-5734a2187df4"
      },
      "execution_count": null,
      "outputs": [
        {
          "output_type": "execute_result",
          "data": {
            "text/plain": [
              "array([False, False,  True,  True,  True])"
            ]
          },
          "metadata": {},
          "execution_count": 5
        }
      ]
    },
    {
      "cell_type": "code",
      "source": [
        "a>b"
      ],
      "metadata": {
        "colab": {
          "base_uri": "https://localhost:8080/"
        },
        "id": "Ph-ioF7cHafb",
        "outputId": "97d54392-2582-4715-8d11-e7da812ccf21"
      },
      "execution_count": null,
      "outputs": [
        {
          "output_type": "execute_result",
          "data": {
            "text/plain": [
              "array([False, False, False, False, False])"
            ]
          },
          "metadata": {},
          "execution_count": 6
        }
      ]
    },
    {
      "cell_type": "code",
      "source": [
        "#summarizing of the data\n",
        "#numpy provides the functions for summarizing array data\n",
        "a.std()"
      ],
      "metadata": {
        "colab": {
          "base_uri": "https://localhost:8080/"
        },
        "id": "NmxfAKWtHfq8",
        "outputId": "ad24286a-0177-4d93-9b4e-deb5a6b1d8eb"
      },
      "execution_count": null,
      "outputs": [
        {
          "output_type": "execute_result",
          "data": {
            "text/plain": [
              "1.4142135623730951"
            ]
          },
          "metadata": {},
          "execution_count": 7
        }
      ]
    },
    {
      "cell_type": "code",
      "source": [
        "a.sum()"
      ],
      "metadata": {
        "colab": {
          "base_uri": "https://localhost:8080/"
        },
        "id": "osx9iNsLI4j4",
        "outputId": "e644b8fb-5629-4d72-9347-2ff1206c7855"
      },
      "execution_count": null,
      "outputs": [
        {
          "output_type": "execute_result",
          "data": {
            "text/plain": [
              "10"
            ]
          },
          "metadata": {},
          "execution_count": 8
        }
      ]
    },
    {
      "cell_type": "code",
      "source": [
        "a.max()"
      ],
      "metadata": {
        "id": "J4YITwG6I8M7",
        "outputId": "14d95a93-6354-4777-92d6-3604e5e122e9",
        "colab": {
          "base_uri": "https://localhost:8080/"
        }
      },
      "execution_count": null,
      "outputs": [
        {
          "output_type": "execute_result",
          "data": {
            "text/plain": [
              "4"
            ]
          },
          "metadata": {},
          "execution_count": 9
        }
      ]
    },
    {
      "cell_type": "code",
      "source": [
        "a.min()"
      ],
      "metadata": {
        "id": "sWS0hsWSI_2p",
        "outputId": "e0129578-5522-4578-bc03-76997bf46d9c",
        "colab": {
          "base_uri": "https://localhost:8080/"
        }
      },
      "execution_count": null,
      "outputs": [
        {
          "output_type": "execute_result",
          "data": {
            "text/plain": [
              "0"
            ]
          },
          "metadata": {},
          "execution_count": 10
        }
      ]
    }
  ]
}